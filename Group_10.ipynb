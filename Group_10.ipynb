{
  "nbformat": 4,
  "nbformat_minor": 0,
  "metadata": {
    "colab": {
      "provenance": [],
      "authorship_tag": "ABX9TyMI4OypMg6pd14NV4ocOsiM",
      "include_colab_link": true
    },
    "kernelspec": {
      "name": "python3",
      "display_name": "Python 3"
    },
    "language_info": {
      "name": "python"
    }
  },
  "cells": [
    {
      "cell_type": "markdown",
      "metadata": {
        "id": "view-in-github",
        "colab_type": "text"
      },
      "source": [
        "<a href=\"https://colab.research.google.com/github/Omdena-Bhutan/02-data-structures-group-10/blob/main/Group_10.ipynb\" target=\"_parent\"><img src=\"https://colab.research.google.com/assets/colab-badge.svg\" alt=\"Open In Colab\"/></a>"
      ]
    },
    {
      "cell_type": "markdown",
      "source": [
        "# PART 1"
      ],
      "metadata": {
        "id": "D2ZfmvxoJTGf"
      }
    },
    {
      "cell_type": "code",
      "source": [
        "character_profile = { \"name\": \"Alistair the Brave\", \"level\": 1, \"health\": 100, \"mana\": 50, \"gold\": 50.75, \"is_alive\": True}"
      ],
      "metadata": {
        "id": "CjDCuq_sJYyA"
      },
      "execution_count": 1,
      "outputs": []
    },
    {
      "cell_type": "code",
      "source": [
        "character_profile"
      ],
      "metadata": {
        "colab": {
          "base_uri": "https://localhost:8080/"
        },
        "id": "uXeDI_I3T3MK",
        "outputId": "cd3f24c9-d336-4304-bf6a-a3563a5a605d"
      },
      "execution_count": 5,
      "outputs": [
        {
          "output_type": "execute_result",
          "data": {
            "text/plain": [
              "{'name': 'Alistair the Brave',\n",
              " 'level': 1,\n",
              " 'health': 85,\n",
              " 'mana': 50,\n",
              " 'gold': 50.75,\n",
              " 'is_alive': True}"
            ]
          },
          "metadata": {},
          "execution_count": 5
        }
      ]
    },
    {
      "cell_type": "code",
      "source": [
        "print(f\"Character Name: {character_profile['name']}\")"
      ],
      "metadata": {
        "colab": {
          "base_uri": "https://localhost:8080/"
        },
        "id": "RKFcABapUre_",
        "outputId": "3762162e-b7cb-488e-98bc-f9b0044ce299"
      },
      "execution_count": 4,
      "outputs": [
        {
          "output_type": "stream",
          "name": "stdout",
          "text": [
            "Character Name: Alistair the Brave\n"
          ]
        }
      ]
    },
    {
      "cell_type": "code",
      "source": [
        "print(f\"Character level:{character_profile['level']}\")"
      ],
      "metadata": {
        "colab": {
          "base_uri": "https://localhost:8080/"
        },
        "id": "qiVnYHg9WSYg",
        "outputId": "c7a4c0b8-0833-4272-f1c4-0496272ebc14"
      },
      "execution_count": null,
      "outputs": [
        {
          "output_type": "stream",
          "name": "stdout",
          "text": [
            "Character level:1\n"
          ]
        }
      ]
    },
    {
      "cell_type": "code",
      "source": [
        "character_profile[\"health\"] = 85"
      ],
      "metadata": {
        "id": "3_MmUcoNW8Ll"
      },
      "execution_count": 3,
      "outputs": []
    },
    {
      "cell_type": "code",
      "source": [
        "print(f\"Character Health: {character_profile['health']}\")"
      ],
      "metadata": {
        "colab": {
          "base_uri": "https://localhost:8080/"
        },
        "id": "xl-oX67tW9_7",
        "outputId": "eab449d3-7930-45f5-9081-93724670f933"
      },
      "execution_count": null,
      "outputs": [
        {
          "output_type": "stream",
          "name": "stdout",
          "text": [
            "Character Health: 85\n"
          ]
        }
      ]
    },
    {
      "cell_type": "code",
      "source": [
        "character_profile[\"friend\"] = 2"
      ],
      "metadata": {
        "id": "DmPm9bexXbVS"
      },
      "execution_count": null,
      "outputs": []
    },
    {
      "cell_type": "code",
      "source": [
        "print(f\"Character friend: {character_profile['friend']}\")"
      ],
      "metadata": {
        "colab": {
          "base_uri": "https://localhost:8080/"
        },
        "id": "4nmwmZe_Xi08",
        "outputId": "4076cbe1-e9c3-42b7-d36e-1ab979e8f04e"
      },
      "execution_count": null,
      "outputs": [
        {
          "output_type": "stream",
          "name": "stdout",
          "text": [
            "Character friend: 2\n"
          ]
        }
      ]
    },
    {
      "cell_type": "code",
      "source": [
        "print (character_profile)"
      ],
      "metadata": {
        "colab": {
          "base_uri": "https://localhost:8080/"
        },
        "id": "RYfhSX9hX2SA",
        "outputId": "c7c0c6a9-49f4-4586-829d-af8c4815974c"
      },
      "execution_count": null,
      "outputs": [
        {
          "output_type": "stream",
          "name": "stdout",
          "text": [
            "{'name': 'Alistair the Brave', 'level': 1, 'health': 85, 'mana': 50, 'gold': 50.75, 'is_alive': True, 'friend': 2}\n"
          ]
        }
      ]
    },
    {
      "cell_type": "markdown",
      "source": [
        "# PART 2"
      ],
      "metadata": {
        "id": "5TLiuCSIJkMf"
      }
    },
    {
      "cell_type": "code",
      "source": [
        "Inventory= ['Dagger','Riffel','Poison']"
      ],
      "metadata": {
        "id": "w8Y6cypXJmMm"
      },
      "execution_count": 24,
      "outputs": []
    },
    {
      "cell_type": "code",
      "source": [
        "print(Inventory)"
      ],
      "metadata": {
        "colab": {
          "base_uri": "https://localhost:8080/"
        },
        "id": "NoqrBvXvK_jm",
        "outputId": "438305d7-d574-4697-c39e-1dd79dfd7840"
      },
      "execution_count": 25,
      "outputs": [
        {
          "output_type": "stream",
          "name": "stdout",
          "text": [
            "['Dagger', 'Riffel', 'Poison']\n"
          ]
        }
      ]
    },
    {
      "cell_type": "code",
      "source": [
        "Inventory.append('Health Poition')"
      ],
      "metadata": {
        "id": "CRhPPJthLJLb"
      },
      "execution_count": 26,
      "outputs": []
    },
    {
      "cell_type": "code",
      "source": [
        "Inventory"
      ],
      "metadata": {
        "colab": {
          "base_uri": "https://localhost:8080/"
        },
        "id": "99cHn6xhMRIV",
        "outputId": "77b15997-e901-4d5c-95a7-689947b69b15"
      },
      "execution_count": 27,
      "outputs": [
        {
          "output_type": "execute_result",
          "data": {
            "text/plain": [
              "['Dagger', 'Riffel', 'Poison', 'Health Poition']"
            ]
          },
          "metadata": {},
          "execution_count": 27
        }
      ]
    },
    {
      "cell_type": "code",
      "source": [
        "Inventory.remove('Dagger')"
      ],
      "metadata": {
        "id": "z5WcDQfuMWXW"
      },
      "execution_count": 28,
      "outputs": []
    },
    {
      "cell_type": "code",
      "source": [
        "print(Inventory)"
      ],
      "metadata": {
        "colab": {
          "base_uri": "https://localhost:8080/"
        },
        "id": "cg3Ed5uHMhgG",
        "outputId": "2cdafc2a-5e68-4f56-8f42-d8f795fba50d"
      },
      "execution_count": 29,
      "outputs": [
        {
          "output_type": "stream",
          "name": "stdout",
          "text": [
            "['Riffel', 'Poison', 'Health Poition']\n"
          ]
        }
      ]
    },
    {
      "cell_type": "code",
      "source": [
        "print(\"inventory:\")\n",
        "for item in Inventory:\n",
        "  print(\"_\", item)\n"
      ],
      "metadata": {
        "colab": {
          "base_uri": "https://localhost:8080/"
        },
        "id": "zivuD2gLM5jr",
        "outputId": "ab63306b-56d5-4951-ce3a-83d888f815d6"
      },
      "execution_count": 30,
      "outputs": [
        {
          "output_type": "stream",
          "name": "stdout",
          "text": [
            "inventory:\n",
            "_ Riffel\n",
            "_ Poison\n",
            "_ Health Poition\n"
          ]
        }
      ]
    },
    {
      "cell_type": "markdown",
      "source": [
        "# PART 3"
      ],
      "metadata": {
        "id": "szwfGR2vOjA1"
      }
    },
    {
      "cell_type": "markdown",
      "source": [],
      "metadata": {
        "id": "OWp6AjjPPchi"
      }
    },
    {
      "cell_type": "code",
      "source": [
        "print(\"Tuples are a good choice for base stats because they are immutable, meaning the values won't changed.\")"
      ],
      "metadata": {
        "colab": {
          "base_uri": "https://localhost:8080/"
        },
        "id": "sXYCtOLnPmrh",
        "outputId": "d428a5d0-060b-458c-e494-4654eedb535c"
      },
      "execution_count": 32,
      "outputs": [
        {
          "output_type": "stream",
          "name": "stdout",
          "text": [
            "Tuples are a good choice for base stats because they are immutable, meaning the values won't changed.\n"
          ]
        }
      ]
    },
    {
      "cell_type": "code",
      "source": [
        "base_stats = (10, 8, 12)  # (strength, dexterity, intelligence)"
      ],
      "metadata": {
        "id": "pUZ8SdRqP2-m"
      },
      "execution_count": 33,
      "outputs": []
    },
    {
      "cell_type": "code",
      "source": [
        "base_stats"
      ],
      "metadata": {
        "colab": {
          "base_uri": "https://localhost:8080/"
        },
        "id": "ywKg6EjWQX-w",
        "outputId": "99609b69-2837-48cf-88d0-3dcdc8985200"
      },
      "execution_count": 34,
      "outputs": [
        {
          "output_type": "execute_result",
          "data": {
            "text/plain": [
              "(10, 8, 12)"
            ]
          },
          "metadata": {},
          "execution_count": 34
        }
      ]
    },
    {
      "cell_type": "code",
      "source": [
        "print(\"Alistair's intelligence stat is:\", base_stats[2])"
      ],
      "metadata": {
        "colab": {
          "base_uri": "https://localhost:8080/"
        },
        "id": "S8QNKFSNQaf5",
        "outputId": "db898aa3-673e-4452-a4bd-3da962344b09"
      },
      "execution_count": 35,
      "outputs": [
        {
          "output_type": "stream",
          "name": "stdout",
          "text": [
            "Alistair's intelligence stat is: 12\n"
          ]
        }
      ]
    },
    {
      "cell_type": "code",
      "source": [
        "base_stats[0] = 15  # Attempt to change strength\n"
      ],
      "metadata": {
        "colab": {
          "base_uri": "https://localhost:8080/",
          "height": 144
        },
        "id": "CsnCtiOTQoOG",
        "outputId": "759f33fa-0410-4faa-f097-dfb17fb38823"
      },
      "execution_count": 40,
      "outputs": [
        {
          "output_type": "error",
          "ename": "TypeError",
          "evalue": "'tuple' object does not support item assignment",
          "traceback": [
            "\u001b[0;31m---------------------------------------------------------------------------\u001b[0m",
            "\u001b[0;31mTypeError\u001b[0m                                 Traceback (most recent call last)",
            "\u001b[0;32m/tmp/ipython-input-995212791.py\u001b[0m in \u001b[0;36m<cell line: 0>\u001b[0;34m()\u001b[0m\n\u001b[0;32m----> 1\u001b[0;31m \u001b[0mbase_stats\u001b[0m\u001b[0;34m[\u001b[0m\u001b[0;36m0\u001b[0m\u001b[0;34m]\u001b[0m \u001b[0;34m=\u001b[0m \u001b[0;36m15\u001b[0m  \u001b[0;31m# Attempt to change strength\u001b[0m\u001b[0;34m\u001b[0m\u001b[0;34m\u001b[0m\u001b[0m\n\u001b[0m",
            "\u001b[0;31mTypeError\u001b[0m: 'tuple' object does not support item assignment"
          ]
        }
      ]
    },
    {
      "cell_type": "markdown",
      "source": [
        "TypeError: 'tuple' object does not support item assignment"
      ],
      "metadata": {
        "id": "YFWLDjOgTFHq"
      }
    },
    {
      "cell_type": "markdown",
      "source": [
        "# Part 4"
      ],
      "metadata": {
        "id": "n8Wj7wfjTJWP"
      }
    },
    {
      "cell_type": "code",
      "source": [
        "quest_log = {\"Defeat the Goblin King\", \"Find the Lost Amulet\"}"
      ],
      "metadata": {
        "id": "f4sKoZtKTLoD"
      },
      "execution_count": 49,
      "outputs": []
    },
    {
      "cell_type": "code",
      "source": [
        "quest_log"
      ],
      "metadata": {
        "colab": {
          "base_uri": "https://localhost:8080/"
        },
        "id": "9YAucLVnUHa8",
        "outputId": "8f94a7d3-713b-4545-891e-db12d20dc286"
      },
      "execution_count": 52,
      "outputs": [
        {
          "output_type": "execute_result",
          "data": {
            "text/plain": [
              "{'Defeat the Goblin King', 'Deliver the Old Scroll', 'Find the Lost Amulet'}"
            ]
          },
          "metadata": {},
          "execution_count": 52
        }
      ]
    },
    {
      "cell_type": "code",
      "source": [
        "quest_log.add(\"Deliver the Old Scroll\")"
      ],
      "metadata": {
        "id": "dRMvBdoeT0Ag"
      },
      "execution_count": 51,
      "outputs": []
    },
    {
      "cell_type": "code",
      "source": [
        "quest_log"
      ],
      "metadata": {
        "colab": {
          "base_uri": "https://localhost:8080/"
        },
        "id": "NY8DTMC0UJ4l",
        "outputId": "1293e5dd-fcae-49e8-9886-41ef7906cda7"
      },
      "execution_count": 53,
      "outputs": [
        {
          "output_type": "execute_result",
          "data": {
            "text/plain": [
              "{'Defeat the Goblin King', 'Deliver the Old Scroll', 'Find the Lost Amulet'}"
            ]
          },
          "metadata": {},
          "execution_count": 53
        }
      ]
    },
    {
      "cell_type": "code",
      "source": [
        "quest_log.add(\"Deliver the Old Scroll\")"
      ],
      "metadata": {
        "id": "eJImRzWUULzI"
      },
      "execution_count": 58,
      "outputs": []
    },
    {
      "cell_type": "code",
      "source": [
        "quest_log"
      ],
      "metadata": {
        "colab": {
          "base_uri": "https://localhost:8080/"
        },
        "id": "0DZzpTAMUa7F",
        "outputId": "98285fc4-5946-463f-ec31-152aedff468d"
      },
      "execution_count": 59,
      "outputs": [
        {
          "output_type": "execute_result",
          "data": {
            "text/plain": [
              "{'Defeat the Goblin King', 'Deliver the Old Scroll', 'Find the Lost Amulet'}"
            ]
          },
          "metadata": {},
          "execution_count": 59
        }
      ]
    },
    {
      "cell_type": "code",
      "source": [
        "quest_log.discard('Find the Lost Amulet')"
      ],
      "metadata": {
        "id": "tmr6tdubUpaR"
      },
      "execution_count": 69,
      "outputs": []
    },
    {
      "cell_type": "code",
      "source": [
        "quest_log"
      ],
      "metadata": {
        "colab": {
          "base_uri": "https://localhost:8080/"
        },
        "id": "_U8kTnSuUvPW",
        "outputId": "d377ec32-eca9-4e5e-ffc0-af4000d30d9e"
      },
      "execution_count": 70,
      "outputs": [
        {
          "output_type": "execute_result",
          "data": {
            "text/plain": [
              "{'Defeat the Goblin King', 'Deliver the Old Scroll'}"
            ]
          },
          "metadata": {},
          "execution_count": 70
        }
      ]
    },
    {
      "cell_type": "code",
      "source": [
        "print(\"Final Quest Log:\", quest_log)"
      ],
      "metadata": {
        "colab": {
          "base_uri": "https://localhost:8080/"
        },
        "id": "SHvcW_QtVOT4",
        "outputId": "487b12ec-1c9f-4cfc-9304-6d98b410c05f"
      },
      "execution_count": 73,
      "outputs": [
        {
          "output_type": "stream",
          "name": "stdout",
          "text": [
            "Final Quest Log: {'Deliver the Old Scroll', 'Defeat the Goblin King'}\n"
          ]
        }
      ]
    },
    {
      "cell_type": "markdown",
      "source": [
        "# PART 5"
      ],
      "metadata": {
        "id": "61PjVMHjV6iE"
      }
    },
    {
      "cell_type": "code",
      "source": [
        "character_sheet = {\n",
        "    \"profile\": character_profile,\n",
        "    \"inventory\": Inventory,\n",
        "    \"stats\": base_stats,\n",
        "    \"quests\": quest_log\n",
        "}\n"
      ],
      "metadata": {
        "id": "zKzS3c7tV-T1"
      },
      "execution_count": 75,
      "outputs": []
    },
    {
      "cell_type": "code",
      "source": [
        "print(\"Full Character Sheet:\")\n",
        "print(character_sheet)"
      ],
      "metadata": {
        "colab": {
          "base_uri": "https://localhost:8080/"
        },
        "id": "i9912vAyWZkz",
        "outputId": "f10091ff-9656-4c4e-e8d5-2eb1bda6ef26"
      },
      "execution_count": 77,
      "outputs": [
        {
          "output_type": "stream",
          "name": "stdout",
          "text": [
            "Full Character Sheet:\n",
            "{'profile': {'name': 'Alistair the Brave', 'level': 1, 'health': 85, 'mana': 50, 'gold': 50.75, 'is_alive': True}, 'inventory': ['Riffel', 'Poison', 'Health Poition'], 'stats': (10, 8, 12), 'quests': {'Deliver the Old Scroll', 'Defeat the Goblin King'}}\n"
          ]
        }
      ]
    }
  ]
}