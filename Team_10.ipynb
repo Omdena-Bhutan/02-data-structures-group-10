{
  "nbformat": 4,
  "nbformat_minor": 0,
  "metadata": {
    "colab": {
      "provenance": [],
      "authorship_tag": "ABX9TyPleRsvbJcQdjTTk+xPhegv",
      "include_colab_link": true
    },
    "kernelspec": {
      "name": "python3",
      "display_name": "Python 3"
    },
    "language_info": {
      "name": "python"
    }
  },
  "cells": [
    {
      "cell_type": "markdown",
      "metadata": {
        "id": "view-in-github",
        "colab_type": "text"
      },
      "source": [
        "<a href=\"https://colab.research.google.com/github/Omdena-Bhutan/02-data-structures-group-10/blob/main/Team_10.ipynb\" target=\"_parent\"><img src=\"https://colab.research.google.com/assets/colab-badge.svg\" alt=\"Open In Colab\"/></a>"
      ]
    },
    {
      "cell_type": "markdown",
      "source": [
        "# PART 1"
      ],
      "metadata": {
        "id": "D2ZfmvxoJTGf"
      }
    },
    {
      "cell_type": "code",
      "source": [
        "character_profile = { \"name\": \"Alistair the Brave\", \"level\": 1, \"health\": 100, \"mana\": 50, \"gold\": 50.75, \"is_alive\": True}"
      ],
      "metadata": {
        "id": "CjDCuq_sJYyA"
      },
      "execution_count": 92,
      "outputs": []
    },
    {
      "cell_type": "code",
      "source": [
        "character_profile"
      ],
      "metadata": {
        "colab": {
          "base_uri": "https://localhost:8080/"
        },
        "id": "uXeDI_I3T3MK",
        "outputId": "5743869a-aa24-4775-8455-6ed35214b702"
      },
      "execution_count": 93,
      "outputs": [
        {
          "output_type": "execute_result",
          "data": {
            "text/plain": [
              "{'name': 'Alistair the Brave',\n",
              " 'level': 1,\n",
              " 'health': 100,\n",
              " 'mana': 50,\n",
              " 'gold': 50.75,\n",
              " 'is_alive': True}"
            ]
          },
          "metadata": {},
          "execution_count": 93
        }
      ]
    },
    {
      "cell_type": "code",
      "source": [
        "print(f\"Character Name: {character_profile['name']}\")"
      ],
      "metadata": {
        "colab": {
          "base_uri": "https://localhost:8080/"
        },
        "id": "RKFcABapUre_",
        "outputId": "2dbc3f23-2ac4-4e7d-fef1-71b776515395"
      },
      "execution_count": 94,
      "outputs": [
        {
          "output_type": "stream",
          "name": "stdout",
          "text": [
            "Character Name: Alistair the Brave\n"
          ]
        }
      ]
    },
    {
      "cell_type": "code",
      "source": [
        "print(f\"Character level:{character_profile['level']}\")"
      ],
      "metadata": {
        "colab": {
          "base_uri": "https://localhost:8080/"
        },
        "id": "qiVnYHg9WSYg",
        "outputId": "3c850e28-8763-4852-996c-6632e55cae75"
      },
      "execution_count": 95,
      "outputs": [
        {
          "output_type": "stream",
          "name": "stdout",
          "text": [
            "Character level:1\n"
          ]
        }
      ]
    },
    {
      "cell_type": "code",
      "source": [
        "character_profile[\"health\"] = 85"
      ],
      "metadata": {
        "id": "3_MmUcoNW8Ll"
      },
      "execution_count": 96,
      "outputs": []
    },
    {
      "cell_type": "code",
      "source": [
        "print(f\"Character Health: {character_profile['health']}\")"
      ],
      "metadata": {
        "colab": {
          "base_uri": "https://localhost:8080/"
        },
        "id": "xl-oX67tW9_7",
        "outputId": "7138f898-3cc4-44dc-aafd-fd874b339d2a"
      },
      "execution_count": 97,
      "outputs": [
        {
          "output_type": "stream",
          "name": "stdout",
          "text": [
            "Character Health: 85\n"
          ]
        }
      ]
    },
    {
      "cell_type": "code",
      "source": [
        "character_profile[\"friend\"] = 2"
      ],
      "metadata": {
        "id": "DmPm9bexXbVS"
      },
      "execution_count": 99,
      "outputs": []
    },
    {
      "cell_type": "code",
      "source": [
        "print(f\"Character friend: {character_profile['friend']}\")"
      ],
      "metadata": {
        "colab": {
          "base_uri": "https://localhost:8080/"
        },
        "id": "4nmwmZe_Xi08",
        "outputId": "bc510f63-d7db-4d70-a4ad-5fae7b24b598"
      },
      "execution_count": 100,
      "outputs": [
        {
          "output_type": "stream",
          "name": "stdout",
          "text": [
            "Character friend: 2\n"
          ]
        }
      ]
    },
    {
      "cell_type": "code",
      "source": [
        "print (character_profile)"
      ],
      "metadata": {
        "colab": {
          "base_uri": "https://localhost:8080/"
        },
        "id": "RYfhSX9hX2SA",
        "outputId": "1f34bb05-ada7-4454-c6a6-931ff4edf2d5"
      },
      "execution_count": 101,
      "outputs": [
        {
          "output_type": "stream",
          "name": "stdout",
          "text": [
            "{'name': 'Alistair the Brave', 'level': 1, 'health': 85, 'mana': 50, 'gold': 50.75, 'is_alive': True, 'friend': 2}\n"
          ]
        }
      ]
    },
    {
      "cell_type": "markdown",
      "source": [
        "# PART 2"
      ],
      "metadata": {
        "id": "5TLiuCSIJkMf"
      }
    },
    {
      "cell_type": "code",
      "source": [
        "Inventory= ['Dagger','Riffel','Poison']"
      ],
      "metadata": {
        "id": "w8Y6cypXJmMm"
      },
      "execution_count": 102,
      "outputs": []
    },
    {
      "cell_type": "code",
      "source": [
        "print(Inventory)"
      ],
      "metadata": {
        "colab": {
          "base_uri": "https://localhost:8080/"
        },
        "id": "NoqrBvXvK_jm",
        "outputId": "b126c20e-2218-482f-a0e6-f762b15bded5"
      },
      "execution_count": 103,
      "outputs": [
        {
          "output_type": "stream",
          "name": "stdout",
          "text": [
            "['Dagger', 'Riffel', 'Poison']\n"
          ]
        }
      ]
    },
    {
      "cell_type": "code",
      "source": [
        "Inventory.append('Health Poition')"
      ],
      "metadata": {
        "id": "CRhPPJthLJLb"
      },
      "execution_count": 104,
      "outputs": []
    },
    {
      "cell_type": "code",
      "source": [
        "Inventory"
      ],
      "metadata": {
        "colab": {
          "base_uri": "https://localhost:8080/"
        },
        "id": "99cHn6xhMRIV",
        "outputId": "eef4c0e5-7440-445f-ea3e-6abba40cdb18"
      },
      "execution_count": 105,
      "outputs": [
        {
          "output_type": "execute_result",
          "data": {
            "text/plain": [
              "['Dagger', 'Riffel', 'Poison', 'Health Poition']"
            ]
          },
          "metadata": {},
          "execution_count": 105
        }
      ]
    },
    {
      "cell_type": "code",
      "source": [
        "Inventory.remove('Dagger')"
      ],
      "metadata": {
        "id": "z5WcDQfuMWXW"
      },
      "execution_count": 106,
      "outputs": []
    },
    {
      "cell_type": "code",
      "source": [
        "print(Inventory)"
      ],
      "metadata": {
        "colab": {
          "base_uri": "https://localhost:8080/"
        },
        "id": "cg3Ed5uHMhgG",
        "outputId": "9f7c4dcd-bbe6-4ce2-9c91-45bab886bf16"
      },
      "execution_count": 107,
      "outputs": [
        {
          "output_type": "stream",
          "name": "stdout",
          "text": [
            "['Riffel', 'Poison', 'Health Poition']\n"
          ]
        }
      ]
    },
    {
      "cell_type": "code",
      "source": [
        "print(\"inventory:\")\n",
        "for item in Inventory:\n",
        "  print(\"_\", item)\n"
      ],
      "metadata": {
        "colab": {
          "base_uri": "https://localhost:8080/"
        },
        "id": "zivuD2gLM5jr",
        "outputId": "b140b04d-8ffa-4908-9264-539d343c5d75"
      },
      "execution_count": 108,
      "outputs": [
        {
          "output_type": "stream",
          "name": "stdout",
          "text": [
            "inventory:\n",
            "_ Riffel\n",
            "_ Poison\n",
            "_ Health Poition\n"
          ]
        }
      ]
    },
    {
      "cell_type": "markdown",
      "source": [
        "# PART 3"
      ],
      "metadata": {
        "id": "szwfGR2vOjA1"
      }
    },
    {
      "cell_type": "code",
      "source": [
        "print(\"Tuples are a good choice for base stats because they are immutable, meaning the values won't changed.\")"
      ],
      "metadata": {
        "colab": {
          "base_uri": "https://localhost:8080/"
        },
        "id": "sXYCtOLnPmrh",
        "outputId": "90637fc5-6fcf-4127-87b8-0a85a70bc77b"
      },
      "execution_count": 109,
      "outputs": [
        {
          "output_type": "stream",
          "name": "stdout",
          "text": [
            "Tuples are a good choice for base stats because they are immutable, meaning the values won't changed.\n"
          ]
        }
      ]
    },
    {
      "cell_type": "code",
      "source": [
        "base_stats = (10, 8, 12)  # (strength, dexterity, intelligence)"
      ],
      "metadata": {
        "id": "pUZ8SdRqP2-m"
      },
      "execution_count": 90,
      "outputs": []
    },
    {
      "cell_type": "code",
      "source": [
        "base_stats"
      ],
      "metadata": {
        "colab": {
          "base_uri": "https://localhost:8080/"
        },
        "id": "ywKg6EjWQX-w",
        "outputId": "41340cc0-0b2d-413c-d30f-95ab9580bc91"
      },
      "execution_count": 89,
      "outputs": [
        {
          "output_type": "execute_result",
          "data": {
            "text/plain": [
              "(10, 8, 12)"
            ]
          },
          "metadata": {},
          "execution_count": 89
        }
      ]
    },
    {
      "cell_type": "code",
      "source": [
        "print(\"Alistair's intelligence stat is:\", base_stats[2])"
      ],
      "metadata": {
        "colab": {
          "base_uri": "https://localhost:8080/"
        },
        "id": "S8QNKFSNQaf5",
        "outputId": "813c71b8-f4dc-4599-a2bf-3d70ad87ce2c"
      },
      "execution_count": 88,
      "outputs": [
        {
          "output_type": "stream",
          "name": "stdout",
          "text": [
            "Alistair's intelligence stat is: 12\n"
          ]
        }
      ]
    },
    {
      "cell_type": "code",
      "source": [
        "base_stats[0] = 15  # Attempt to change strength\n"
      ],
      "metadata": {
        "id": "CsnCtiOTQoOG"
      },
      "execution_count": null,
      "outputs": []
    },
    {
      "cell_type": "markdown",
      "source": [
        "TypeError: 'tuple' object does not support item assignment"
      ],
      "metadata": {
        "id": "YFWLDjOgTFHq"
      }
    },
    {
      "cell_type": "markdown",
      "source": [
        "# Part 4"
      ],
      "metadata": {
        "id": "n8Wj7wfjTJWP"
      }
    },
    {
      "cell_type": "code",
      "source": [
        "quest_log = {\"Defeat the Goblin King\", \"Find the Lost Amulet\"}"
      ],
      "metadata": {
        "id": "f4sKoZtKTLoD"
      },
      "execution_count": 87,
      "outputs": []
    },
    {
      "cell_type": "code",
      "source": [
        "quest_log"
      ],
      "metadata": {
        "colab": {
          "base_uri": "https://localhost:8080/"
        },
        "id": "9YAucLVnUHa8",
        "outputId": "c7041cb8-78a5-44c7-b597-57c21ad80843"
      },
      "execution_count": 86,
      "outputs": [
        {
          "output_type": "execute_result",
          "data": {
            "text/plain": [
              "{'Defeat the Goblin King', 'Deliver the Old Scroll'}"
            ]
          },
          "metadata": {},
          "execution_count": 86
        }
      ]
    },
    {
      "cell_type": "code",
      "source": [
        "quest_log.add(\"Deliver the Old Scroll\")"
      ],
      "metadata": {
        "id": "dRMvBdoeT0Ag"
      },
      "execution_count": 85,
      "outputs": []
    },
    {
      "cell_type": "code",
      "source": [
        "quest_log"
      ],
      "metadata": {
        "colab": {
          "base_uri": "https://localhost:8080/"
        },
        "id": "NY8DTMC0UJ4l",
        "outputId": "c202da6c-76b8-4609-bddc-ac1ef559b2d6"
      },
      "execution_count": 84,
      "outputs": [
        {
          "output_type": "execute_result",
          "data": {
            "text/plain": [
              "{'Defeat the Goblin King', 'Deliver the Old Scroll'}"
            ]
          },
          "metadata": {},
          "execution_count": 84
        }
      ]
    },
    {
      "cell_type": "code",
      "source": [
        "quest_log.add(\"Deliver the Old Scroll\")"
      ],
      "metadata": {
        "id": "eJImRzWUULzI"
      },
      "execution_count": null,
      "outputs": []
    },
    {
      "cell_type": "code",
      "source": [
        "quest_log"
      ],
      "metadata": {
        "colab": {
          "base_uri": "https://localhost:8080/"
        },
        "id": "0DZzpTAMUa7F",
        "outputId": "037dc26e-2398-4948-a489-bf316d008ccc"
      },
      "execution_count": 83,
      "outputs": [
        {
          "output_type": "execute_result",
          "data": {
            "text/plain": [
              "{'Defeat the Goblin King', 'Deliver the Old Scroll'}"
            ]
          },
          "metadata": {},
          "execution_count": 83
        }
      ]
    },
    {
      "cell_type": "code",
      "source": [
        "quest_log.discard('Find the Lost Amulet')"
      ],
      "metadata": {
        "id": "tmr6tdubUpaR"
      },
      "execution_count": 82,
      "outputs": []
    },
    {
      "cell_type": "code",
      "source": [
        "quest_log"
      ],
      "metadata": {
        "colab": {
          "base_uri": "https://localhost:8080/"
        },
        "id": "_U8kTnSuUvPW",
        "outputId": "930a0a7c-bdff-4f95-c809-035105ee487a"
      },
      "execution_count": 81,
      "outputs": [
        {
          "output_type": "execute_result",
          "data": {
            "text/plain": [
              "{'Defeat the Goblin King', 'Deliver the Old Scroll'}"
            ]
          },
          "metadata": {},
          "execution_count": 81
        }
      ]
    },
    {
      "cell_type": "code",
      "source": [
        "print(\"Final Quest Log:\", quest_log)"
      ],
      "metadata": {
        "colab": {
          "base_uri": "https://localhost:8080/"
        },
        "id": "SHvcW_QtVOT4",
        "outputId": "305e1e61-4da5-4e59-ea54-d1bd14fdcfc4"
      },
      "execution_count": 80,
      "outputs": [
        {
          "output_type": "stream",
          "name": "stdout",
          "text": [
            "Final Quest Log: {'Deliver the Old Scroll', 'Defeat the Goblin King'}\n"
          ]
        }
      ]
    },
    {
      "cell_type": "markdown",
      "source": [
        "# PART 5"
      ],
      "metadata": {
        "id": "61PjVMHjV6iE"
      }
    },
    {
      "cell_type": "code",
      "source": [
        "character_sheet = {\n",
        "    \"profile\": character_profile,\n",
        "    \"inventory\": Inventory,\n",
        "    \"stats\": base_stats,\n",
        "    \"quests\": quest_log\n",
        "}\n"
      ],
      "metadata": {
        "id": "zKzS3c7tV-T1"
      },
      "execution_count": 79,
      "outputs": []
    },
    {
      "cell_type": "code",
      "source": [
        "print(\"Full Character Sheet:\")\n",
        "print(character_sheet)"
      ],
      "metadata": {
        "colab": {
          "base_uri": "https://localhost:8080/"
        },
        "id": "i9912vAyWZkz",
        "outputId": "7d6157a1-cbe8-482e-a129-e8e2a590b3ff"
      },
      "execution_count": 78,
      "outputs": [
        {
          "output_type": "stream",
          "name": "stdout",
          "text": [
            "Full Character Sheet:\n",
            "{'profile': {'name': 'Alistair the Brave', 'level': 1, 'health': 85, 'mana': 50, 'gold': 50.75, 'is_alive': True}, 'inventory': ['Riffel', 'Poison', 'Health Poition'], 'stats': (10, 8, 12), 'quests': {'Deliver the Old Scroll', 'Defeat the Goblin King'}}\n"
          ]
        }
      ]
    }
  ]
}